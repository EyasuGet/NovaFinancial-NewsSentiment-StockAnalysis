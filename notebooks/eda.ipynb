{
 "cells": [
  {
   "cell_type": "markdown",
   "id": "d1549dae",
   "metadata": {},
   "source": [
    "# Install dependencies"
   ]
  },
  {
   "cell_type": "code",
   "execution_count": null,
   "id": "703d2828",
   "metadata": {},
   "outputs": [],
   "source": [
    "import pandas as pd\n",
    "from sklearn.feature_extraction.text import CountVectorizer\n",
    "from sklearn.decomposition import LatentDirichletAllocation\n",
    "import matplotlib.pyplot as plt\n"
   ]
  },
  {
   "cell_type": "code",
   "execution_count": null,
   "id": "b1f83314",
   "metadata": {
    "vscode": {
     "languageId": "plaintext"
    }
   },
   "outputs": [],
   "source": [
    "\n"
   ]
  },
  {
   "cell_type": "code",
   "execution_count": null,
   "id": "7c6eb781",
   "metadata": {
    "vscode": {
     "languageId": "plaintext"
    }
   },
   "outputs": [],
   "source": [
    "import panda as pd"
   ]
  },
  {
   "cell_type": "markdown",
   "id": "fc1e85b9",
   "metadata": {},
   "source": [
    "# Load Dataset"
   ]
  },
  {
   "cell_type": "code",
   "execution_count": null,
   "id": "f0174892",
   "metadata": {
    "vscode": {
     "languageId": "plaintext"
    }
   },
   "outputs": [],
   "source": [
    "df = pd.read_csv('path/to/fnspid.csv')  # Replace with actual path\n",
    "df.head()\n"
   ]
  },
  {
   "cell_type": "markdown",
   "id": "5aecfce0",
   "metadata": {},
   "source": [
    "# Descriptive Statistics"
   ]
  },
  {
   "cell_type": "code",
   "execution_count": null,
   "id": "e4eb590b",
   "metadata": {
    "vscode": {
     "languageId": "plaintext"
    }
   },
   "outputs": [],
   "source": [
    "df['headline_length'] = df['headline'].apply(len)\n",
    "df['headline_length'].describe()\n",
    "\n",
    "df['publisher'].value_counts().head(10)\n",
    "\n",
    "df['date'] = pd.to_datetime(df['date'])\n",
    "df['date_only'] = df['date'].dt.date\n",
    "df.groupby('date_only').size().plot(kind='line', title='Articles per Day')"
   ]
  },
  {
   "cell_type": "markdown",
   "id": "98f302e4",
   "metadata": {},
   "source": [
    "# Text Analysis - Topic Modeling"
   ]
  },
  {
   "cell_type": "code",
   "execution_count": null,
   "id": "72aa7663",
   "metadata": {},
   "outputs": [],
   "source": [
    "vectorizer = CountVectorizer(max_df=0.95, min_df=2, stop_words='english')\n",
    "dtm = vectorizer.fit_transform(df['headline'].fillna(''))\n",
    "\n",
    "lda = LatentDirichletAllocation(n_components=5, random_state=42)\n",
    "lda.fit(dtm)\n",
    "\n",
    "# Display keywords for each topic\n",
    "for i, topic in enumerate(lda.components_):\n",
    "    print(f\"Topic {i+1}:\")\n",
    "    print([vectorizer.get_feature_names_out()[i] for i in topic.argsort()[-10:]])\n"
   ]
  },
  {
   "cell_type": "markdown",
   "id": "5e2337da",
   "metadata": {},
   "source": [
    "# Time Series of Publication Frequency"
   ]
  },
  {
   "cell_type": "code",
   "execution_count": null,
   "id": "33e159c7",
   "metadata": {
    "vscode": {
     "languageId": "plaintext"
    }
   },
   "outputs": [],
   "source": [
    "df['hour'] = df['date'].dt.hour\n",
    "df['hour'].value_counts().sort_index().plot(kind='bar', title='Articles by Hour')\n",
    "plt.xlabel('Hour (UTC-4)')\n",
    "plt.ylabel('Number of Articles')"
   ]
  },
  {
   "cell_type": "markdown",
   "id": "31161399",
   "metadata": {},
   "source": [
    "# Publisher Domain Analysis"
   ]
  },
  {
   "cell_type": "code",
   "execution_count": null,
   "id": "a8588f77",
   "metadata": {
    "vscode": {
     "languageId": "plaintext"
    }
   },
   "outputs": [],
   "source": [
    "df['publisher_domain'] = df['publisher'].str.extract(r'@(.+)$')\n",
    "df['publisher_domain'].value_counts().head(10)"
   ]
  },
  {
   "cell_type": "markdown",
   "id": "3ff212df",
   "metadata": {},
   "source": [
    "# Articles per Day"
   ]
  },
  {
   "cell_type": "code",
   "execution_count": null,
   "id": "bf48d1be",
   "metadata": {
    "vscode": {
     "languageId": "plaintext"
    }
   },
   "outputs": [],
   "source": [
    "plot_articles_per_day(df)"
   ]
  },
  {
   "cell_type": "markdown",
   "id": "bd6ecfa0",
   "metadata": {},
   "source": [
    "# Topic Modeling"
   ]
  },
  {
   "cell_type": "code",
   "execution_count": null,
   "id": "97928b8b",
   "metadata": {
    "vscode": {
     "languageId": "plaintext"
    }
   },
   "outputs": [],
   "source": [
    "topics = topic_modeling(df['headline'], n_topics=5)\n",
    "for i, topic in enumerate(topics, 1):\n",
    "    print(f\"Topic {i}: {', '.join(topic)}\")"
   ]
  },
  {
   "cell_type": "markdown",
   "id": "78db880c",
   "metadata": {},
   "source": [
    "# Articles by Hour"
   ]
  },
  {
   "cell_type": "code",
   "execution_count": null,
   "id": "c3e9c282",
   "metadata": {
    "vscode": {
     "languageId": "plaintext"
    }
   },
   "outputs": [],
   "source": [
    "plot_articles_by_hour(df)"
   ]
  }
 ],
 "metadata": {
  "language_info": {
   "name": "python"
  }
 },
 "nbformat": 4,
 "nbformat_minor": 5
}
