{
 "cells": [
  {
   "cell_type": "markdown",
   "id": "76db4f09",
   "metadata": {},
   "source": [
    "# Imports"
   ]
  },
  {
   "cell_type": "code",
   "execution_count": null,
   "id": "f4177477",
   "metadata": {
    "vscode": {
     "languageId": "plaintext"
    }
   },
   "outputs": [],
   "source": [
    "import pandas as pd\n",
    "import matplotlib.pyplot as plt\n",
    "from scripts.stock_utils import (\n",
    "    get_stock_data, calculate_sma, calculate_ema,\n",
    "    calculate_rsi, calculate_macd\n",
    ")"
   ]
  },
  {
   "cell_type": "markdown",
   "id": "d341f397",
   "metadata": {},
   "source": [
    "# Load Stock Data "
   ]
  },
  {
   "cell_type": "code",
   "execution_count": null,
   "id": "fac8ae8b",
   "metadata": {
    "vscode": {
     "languageId": "plaintext"
    }
   },
   "outputs": [],
   "source": [
    "ticker = 'AAPL'\n",
    "start_date = '2023-01-01'\n",
    "end_date = '2024-01-01'\n",
    "\n",
    "df = get_stock_data(ticker, start=start_date, end=end_date)\n",
    "df.head()"
   ]
  },
  {
   "cell_type": "markdown",
   "id": "58957966",
   "metadata": {},
   "source": [
    "# Calculate Indicators"
   ]
  },
  {
   "cell_type": "code",
   "execution_count": null,
   "id": "094c86ed",
   "metadata": {
    "vscode": {
     "languageId": "plaintext"
    }
   },
   "outputs": [],
   "source": [
    "df = calculate_sma(df, window=20)\n",
    "df = calculate_ema(df, window=20)\n",
    "df = calculate_rsi(df, window=14)\n",
    "df = calculate_macd(df)"
   ]
  },
  {
   "cell_type": "markdown",
   "id": "bb9bc027",
   "metadata": {},
   "source": [
    "# Plot Closing Price + SMA/EMA "
   ]
  },
  {
   "cell_type": "code",
   "execution_count": null,
   "id": "1beec42d",
   "metadata": {
    "vscode": {
     "languageId": "plaintext"
    }
   },
   "outputs": [],
   "source": [
    "plt.figure(figsize=(12, 6))\n",
    "plt.plot(df['Close'], label='Close Price')\n",
    "plt.plot(df['SMA_20'], label='SMA 20')\n",
    "plt.plot(df['EMA_20'], label='EMA 20')\n",
    "plt.title(f'{ticker} Price with SMA/EMA')\n",
    "plt.legend()\n",
    "plt.show()"
   ]
  },
  {
   "cell_type": "markdown",
   "id": "10895870",
   "metadata": {},
   "source": [
    "# PLot RSI"
   ]
  },
  {
   "cell_type": "code",
   "execution_count": null,
   "id": "76cd730a",
   "metadata": {
    "vscode": {
     "languageId": "plaintext"
    }
   },
   "outputs": [],
   "source": [
    "plt.figure(figsize=(10, 3))\n",
    "plt.plot(df['RSI'], label='RSI')\n",
    "plt.axhline(70, color='red', linestyle='--')\n",
    "plt.axhline(30, color='green', linestyle='--')\n",
    "plt.title('Relative Strength Index (RSI)')\n",
    "plt.legend()\n",
    "plt.show()"
   ]
  },
  {
   "cell_type": "markdown",
   "id": "6519e96a",
   "metadata": {},
   "source": [
    "# Plot MASD"
   ]
  },
  {
   "cell_type": "code",
   "execution_count": null,
   "id": "39be5d30",
   "metadata": {
    "vscode": {
     "languageId": "plaintext"
    }
   },
   "outputs": [],
   "source": [
    "plt.figure(figsize=(10, 4))\n",
    "plt.plot(df['MACD'], label='MACD', color='blue')\n",
    "plt.plot(df['Signal_Line'], label='Signal Line', color='red')\n",
    "plt.title('MACD & Signal Line')\n",
    "plt.legend()\n",
    "plt.show()"
   ]
  }
 ],
 "metadata": {
  "language_info": {
   "name": "python"
  }
 },
 "nbformat": 4,
 "nbformat_minor": 5
}
