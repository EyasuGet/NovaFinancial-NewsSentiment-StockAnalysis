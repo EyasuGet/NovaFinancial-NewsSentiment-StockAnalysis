{
 "cells": [
  {
   "cell_type": "markdown",
   "id": "d709e7de",
   "metadata": {},
   "source": [
    "# 1. Import"
   ]
  },
  {
   "cell_type": "code",
   "execution_count": null,
   "id": "e5535e1b",
   "metadata": {
    "vscode": {
     "languageId": "plaintext"
    }
   },
   "outputs": [],
   "source": [
    "import pandas as pd\n",
    "import matplotlib.pyplot as plt\n",
    "from scripts.news_sentiment import load_news_data, compute_sentiment, daily_avg_sentiment\n",
    "from scripts.correlation_utils import compute_daily_returns, merge_sentiment_and_returns, calculate_correlation\n",
    "from scripts.stock_utils import get_stock_data"
   ]
  },
  {
   "cell_type": "markdown",
   "id": "a4632786",
   "metadata": {},
   "source": [
    "\n",
    "# 2. Load News + Score Sentiment"
   ]
  },
  {
   "cell_type": "code",
   "execution_count": null,
   "id": "2b1fa276",
   "metadata": {
    "vscode": {
     "languageId": "plaintext"
    }
   },
   "outputs": [],
   "source": [
    "news_df = load_news_data('data/news_headlines.csv')\n",
    "news_df = compute_sentiment(news_df)\n",
    "daily_sentiment = daily_avg_sentiment(news_df)"
   ]
  },
  {
   "cell_type": "markdown",
   "id": "1e1e21ba",
   "metadata": {},
   "source": [
    "\n",
    "# 3. Load Stock Data and Compute Daily Returns"
   ]
  },
  {
   "cell_type": "code",
   "execution_count": null,
   "id": "0fba4cd8",
   "metadata": {
    "vscode": {
     "languageId": "plaintext"
    }
   },
   "outputs": [],
   "source": [
    "stock_df = get_stock_data('AAPL', start='2023-01-01', end='2024-01-01')\n",
    "stock_df = compute_daily_returns(stock_df)"
   ]
  },
  {
   "cell_type": "markdown",
   "id": "766d43cd",
   "metadata": {},
   "source": [
    "\n",
    "# 4. Merge and Correlate"
   ]
  },
  {
   "cell_type": "code",
   "execution_count": null,
   "id": "d11ff996",
   "metadata": {
    "vscode": {
     "languageId": "plaintext"
    }
   },
   "outputs": [],
   "source": [
    "merged_df = merge_sentiment_and_returns(daily_sentiment, stock_df)\n",
    "corr = calculate_correlation(merged_df)"
   ]
  },
  {
   "cell_type": "markdown",
   "id": "167ceb28",
   "metadata": {},
   "source": [
    "# 5. Plot"
   ]
  },
  {
   "cell_type": "code",
   "execution_count": null,
   "id": "99177050",
   "metadata": {
    "vscode": {
     "languageId": "plaintext"
    }
   },
   "outputs": [],
   "source": [
    "plt.figure(figsize=(12, 5))\n",
    "plt.scatter(merged_df['Sentiment'], merged_df['Daily Return'], alpha=0.6)\n",
    "plt.title(f'Sentiment vs Daily Return (Correlation = {corr:.2f})')\n",
    "plt.xlabel('Sentiment Score')\n",
    "plt.ylabel('Daily Stock Return')\n",
    "plt.grid(True)\n",
    "plt.show()"
   ]
  },
  {
   "cell_type": "markdown",
   "id": "b4f01155",
   "metadata": {},
   "source": [
    "# 6. Display Summary"
   ]
  },
  {
   "cell_type": "code",
   "execution_count": null,
   "id": "dcdea287",
   "metadata": {
    "vscode": {
     "languageId": "plaintext"
    }
   },
   "outputs": [],
   "source": [
    "print(f\"Pearson Correlation: {corr:.4f}\")"
   ]
  }
 ],
 "metadata": {
  "language_info": {
   "name": "python"
  }
 },
 "nbformat": 4,
 "nbformat_minor": 5
}
